{
 "cells": [
  {
   "cell_type": "code",
   "execution_count": 4,
   "metadata": {},
   "outputs": [],
   "source": [
    "%load_ext autotime"
   ]
  },
  {
   "cell_type": "code",
   "execution_count": 1,
   "metadata": {},
   "outputs": [
    {
     "name": "stderr",
     "output_type": "stream",
     "text": [
      "\u001b[31mW0731 08:43:27 197 minpy.dispatch.registry:register:47]\u001b[0m Type MXNet for name reshape has already existed\n"
     ]
    }
   ],
   "source": [
    "import minpy.numpy as np\n",
    "import minpy.numpy.random as random\n",
    "from minpy.context import cpu, gpu\n",
    "import time"
   ]
  },
  {
   "cell_type": "code",
   "execution_count": 5,
   "metadata": {},
   "outputs": [
    {
     "name": "stderr",
     "output_type": "stream",
     "text": [
      "\u001b[31mW0731 08:36:04 111 minpy.dispatch.registry:register:47]\u001b[0m Type MXNet for name reshape has already existed\n"
     ]
    },
    {
     "name": "stdout",
     "output_type": "stream",
     "text": [
      "run on cpu: 0.016834 s/iter\n",
      "run on cpu: 0.168345 s\n",
      "run on gpu: 0.033956 s/iter\n",
      "run on gpu: 0.339562 s\n",
      "time: 2.09 s\n"
     ]
    }
   ],
   "source": [
    "n = 10\n",
    "\n",
    "with cpu():\n",
    "    x_cpu = random.rand(1024, 1024) - 0.5\n",
    "    y_cpu = random.rand(1024, 1024) - 0.5\n",
    "\n",
    "    t0 = time.time()\n",
    "    for i in xrange(n):\n",
    "        z_cpu = np.dot(x_cpu, y_cpu)\n",
    "    z_cpu.asnumpy()\n",
    "    t1 = time.time()\n",
    "\n",
    "with gpu(0):\n",
    "    x_gpu0 = random.rand(1024, 1024) - 0.5\n",
    "    y_gpu0 = random.rand(1024, 1024) - 0.5\n",
    "\n",
    "    t2 = time.time()\n",
    "    for i in xrange(n):\n",
    "        z_gpu0 = np.dot(x_gpu0, y_gpu0)\n",
    "    z_gpu0.asnumpy()\n",
    "    t3 = time.time()\n",
    "\n",
    "print(\"run on cpu: %.6f s/iter\" % ((t1 - t0) / n))\n",
    "print(\"run on cpu: %.6f s\" % ((t1 - t0)))\n",
    "print(\"run on gpu: %.6f s/iter\" % ((t3 - t2) / n))\n",
    "print(\"run on gpu: %.6f s\" % ((t3 - t2)))"
   ]
  },
  {
   "cell_type": "code",
   "execution_count": 6,
   "metadata": {},
   "outputs": [
    {
     "name": "stdout",
     "output_type": "stream",
     "text": [
      "run on cpu: 0.000491 s/iter\n",
      "<class 'minpy.array.Array'>\n",
      "run on gpu: 0.000412 s/iter\n",
      "time: 9.19 ms\n"
     ]
    }
   ],
   "source": [
    "n=1\n",
    "with cpu():\n",
    "    t1 = time.time()\n",
    "    for i in xrange(n):\n",
    "        ar_cpu = np.arange(1000)\n",
    "    t2 = time.time()\n",
    "print(\"run on cpu: %.6f s/iter\" % ((t2 - t1) / n))    \n",
    "\n",
    "with gpu(0):\n",
    "    t3 = time.time()\n",
    "    for i in xrange(n):\n",
    "        ar_gpu0 = np.arange(1000)\n",
    "    print(type(ar_gpu0))\n",
    "    t4 = time.time()\n",
    "print(\"run on gpu: %.6f s/iter\" % ((t4 - t3) / n)) "
   ]
  },
  {
   "cell_type": "code",
   "execution_count": 2,
   "metadata": {},
   "outputs": [
    {
     "data": {
      "text/plain": [
       "numpy.ndarray"
      ]
     },
     "execution_count": 2,
     "metadata": {},
     "output_type": "execute_result"
    }
   ],
   "source": [
    "from scipy import misc\n",
    "face = misc.imread('face.png')\n",
    "type(face)"
   ]
  },
  {
   "cell_type": "code",
   "execution_count": 3,
   "metadata": {},
   "outputs": [
    {
     "data": {
      "text/plain": [
       "minpy.array.Array"
      ]
     },
     "execution_count": 3,
     "metadata": {},
     "output_type": "execute_result"
    }
   ],
   "source": [
    "face_minpy = np.array(face)\n",
    "type(face_minpy)"
   ]
  },
  {
   "cell_type": "code",
   "execution_count": null,
   "metadata": {},
   "outputs": [
    {
     "name": "stdout",
     "output_type": "stream",
     "text": [
      "run on cpu: 0.009076 s/iter\n",
      "run on gpu: 0.889298 s/iter\n"
     ]
    }
   ],
   "source": [
    "n = 1\n",
    "with cpu():\n",
    "    t1 = time.time()\n",
    "    for i in xrange(n):\n",
    "        gray_cpu = np.dot(face, np.array([0.299, 0.587, 0.114]))\n",
    "    t2 = time.time()\n",
    "print(\"run on cpu: %.6f s/iter\" % ((t2 - t1) / n))    \n",
    "\n",
    "with gpu(0):\n",
    "    t3 = time.time()\n",
    "    for i in xrange(n):\n",
    "        gray_gpu0 = np.dot(face_minpy, np.array([0.299, 0.587, 0.114]))\n",
    "    t4 = time.time()\n",
    "print(\"run on gpu: %.6f s/iter\" % ((t4 - t3) / n)) "
   ]
  },
  {
   "cell_type": "code",
   "execution_count": null,
   "metadata": {
    "collapsed": true
   },
   "outputs": [],
   "source": []
  }
 ],
 "metadata": {
  "kernelspec": {
   "display_name": "Python 2",
   "language": "python",
   "name": "python2"
  },
  "language_info": {
   "codemirror_mode": {
    "name": "ipython",
    "version": 2
   },
   "file_extension": ".py",
   "mimetype": "text/x-python",
   "name": "python",
   "nbconvert_exporter": "python",
   "pygments_lexer": "ipython2",
   "version": "2.7.13"
  }
 },
 "nbformat": 4,
 "nbformat_minor": 2
}
